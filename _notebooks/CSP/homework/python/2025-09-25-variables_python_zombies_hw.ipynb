{
 "cells": [
  {
   "cell_type": "raw",
   "id": "6d62ad69",
   "metadata": {
    "vscode": {
     "languageId": "raw"
    }
   },
   "source": [
    "---\n",
    "layout: post\n",
    "title: Variables & Assignments\n",
    "description: This page will provide homework for the variables and assigmnets lesson.\n",
    "permalink: /python/variables/zombies/hw\n",
    "breadcrumb: True\n",
    "Author: Ethan Patel, Tanay Paranjpe, Neil Manjrekar\n",
    "---"
   ]
  },
  {
   "cell_type": "markdown",
   "id": "2b9da6aa",
   "metadata": {},
   "source": [
    "## Variables & Assignment Homework\n",
    "---\n",
    "Description:\n",
    "- In this homework hack, you will practice creating and using variables. You’ll define variables to store your name and age, reassign values, and answer interactive questions to test your understanding. This activity will help you master the basics of variables and how they work in programming."
   ]
  },
  {
   "cell_type": "markdown",
   "id": "352d458b",
   "metadata": {
    "vscode": {
     "languageId": "plaintext"
    }
   },
   "source": [
    "# 🏠 Variables Quest Homework\n",
    "\n",
    "**Objective:** Practice creating, manipulating, and combining strings in Python.\n",
    "\n",
    "---\n",
    "\n",
    "## Instructions\n",
    "\n",
    "Complete each challenge by **filling in the missing code**. Use the examples as a guide, but make sure to write your own values or logic.\n"
   ]
  },
  {
   "cell_type": "markdown",
   "id": "39715e07",
   "metadata": {
    "vscode": {
     "languageId": "raw"
    }
   },
   "source": [
    "## Challenge 1: Creating a Life Profile with Variables"
   ]
  },
  {
   "cell_type": "code",
   "execution_count": null,
   "id": "35609373",
   "metadata": {},
   "outputs": [],
   "source": [
    "# Part 1\n",
    "## Personal info\n",
    "my_name = \"kailyn\"           # Fill in your name\n",
    "my_age = 16            # Fill in your age\n",
    "my_city = \"san diego\"           # Fill in the city where you live\n",
    "\n",
    "# Part 2\n",
    "## Preferences\n",
    "favorite_color = \"yellow\"    # Your favorite color\n",
    "favorite_food = \"pasta\"     # Your favorite food\n",
    "favorite_movie = \"a silent voice\"    # Your favorite movie\n",
    "favorite_song = \"shuffle\"     # Your favorite song\n",
    "\n",
    "# Part 3\n",
    "# Reassign some variables\n",
    "favorite_food = \"pasta\"\n",
    "my_city = \"san diego\"\n",
    "has_pet = True\n",
    "\n",
    "# Part 5: Print Your Life Profile\n",
    "## Print all your variables so your “Life Profile” is displayed:\n",
    "\n",
    "print(\"Name:\", my_name)\n",
    "print(\"Age:\", my_age)\n",
    "print(\"City:\", my_city)\n",
    "print(\"Favorite color:\", favorite_color)\n",
    "print(\"Favorite food:\", favorite_food)\n",
    "print(\"Favorite movie:\", favorite_movie)\n",
    "print(\"Favorite song:\", favorite_song)\n",
    "print(\"Student?\", is_student)\n",
    "print(\"Has pet?\", has_pet)\n",
    "print(\"Online?\", is_online)\n",
    "print(\"Likes music?\", likes_music)\n"
   ]
  },
  {
   "cell_type": "markdown",
   "id": "748cd3e2",
   "metadata": {},
   "source": [
    "# Task 2 "
   ]
  },
  {
   "cell_type": "markdown",
   "id": "a775e8cf",
   "metadata": {
    "vscode": {
     "languageId": "html"
    }
   },
   "source": [
    "## Creative Challenge \n",
    "\n",
    "Your task: Create a “story” or “profile” using **ONLY variables and assignments**.  \n",
    "\n",
    "\n",
    "### Instructions:\n",
    "\n",
    "1. **Create at least 8 variables** to describe a character or yourself.  \n",
    "   Examples:  \n",
    "   `name`, `age`, `favorite_food`, `hobby`, `number_of_pets`, `mood`, `favorite_color`, `dream_job`\n",
    "\n",
    "2. **Assign initial values** to all variables.\n",
    "\n",
    "3. **Reassign at least 4 of the variables** to new values to simulate changes over time or “events” in the story.\n",
    "\n",
    "4. Use **print statements** to write a story or profile that is **at least 5 sentences long**.  \n",
    "   Each sentence should include at least one variable.  \n",
    "   Example:  \n",
    "   > \"Tanay ('age' 17) loves pizza and plays tennis ('hobby') every weekend. Today, Tanay is happy because he ate his ('favoirite_food').\"\n",
    "\n",
    "5. Optional: Add **extra variables** to make your story longer and more creative.  \n",
    "   You can also create “day 2”, “day 3”, etc., by reassigning variables and printing new sentences.\n",
    "\n",
    "### Goal:\n",
    "\n",
    "- Show creativity while practicing:  \n",
    "  - Variable creation  \n",
    "  - Variable reassignment  \n",
    "  - Using variables in print statements\n",
    "  - Experiment with assigment and reassigment to update variables \n"
   ]
  },
  {
   "cell_type": "code",
   "execution_count": null,
   "id": "a81236ed",
   "metadata": {},
   "outputs": [
    {
     "name": "stdout",
     "output_type": "stream",
     "text": [
      "Kailyn is a student at DNHS.\n",
      "She is currently in 5 AP classes and her grades are okay.\n",
      "Maybe if she didn't take CSP, and only took 3 AP classes, her grades would be amazing.\n",
      "She is currently stressed because of APEL.\n",
      "When she had time to play games, she will instead be relaxed.\n"
     ]
    }
   ],
   "source": [
    "studentName = \"Kailyn\"\n",
    "occupation = \"student\"\n",
    "school = \"DNHS\"\n",
    "apCount = 5\n",
    "gradeStatus = \"okay\"\n",
    "apClass = \"CSP\"\n",
    "currentEmotion = \"stressed\"\n",
    "hobby = \"play games\"\n",
    "\n",
    "print(f\"{studentName} is a {occupation} at {school}.\")\n",
    "print(f\"She is currently in {apCount} AP classes and her grades are {gradeStatus}.\")\n",
    "apCount = 3  # updated\n",
    "gradeStatus = \"amazing\"  # updated\n",
    "print(f\"Maybe if she didn't take {apClass}, and only took {apCount} AP classes, her grades would be {gradeStatus}.\")\n",
    "apClass = \"APEL\"  # updated\n",
    "print(f\"She is currently {currentEmotion} because of {apClass}.\")\n",
    "currentEmotion = \"relaxed\"  # updated\n",
    "print(f\"When she had time to {hobby}, she will instead be {currentEmotion}.\")\n"
   ]
  },
  {
   "cell_type": "markdown",
   "id": "d75a4417",
   "metadata": {},
   "source": []
  }
 ],
 "metadata": {
  "kernelspec": {
   "display_name": "Python 3",
   "language": "python",
   "name": "python3"
  },
  "language_info": {
   "codemirror_mode": {
    "name": "ipython",
    "version": 3
   },
   "file_extension": ".py",
   "mimetype": "text/x-python",
   "name": "python",
   "nbconvert_exporter": "python",
   "pygments_lexer": "ipython3",
   "version": "3.11.2"
  }
 },
 "nbformat": 4,
 "nbformat_minor": 5
}
