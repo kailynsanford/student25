{
 "cells": [
  {
   "cell_type": "raw",
   "id": "5d9d659b",
   "metadata": {
    "vscode": {
     "languageId": "raw"
    }
   },
   "source": [
    "---\n",
    "layout: post\n",
    "title: Variables & Assignments\n",
    "description: This page will provide homework for the variables and assigmnets lesson.\n",
    "permalink: /js/variables/zombies/hw\n",
    "breadcrumb: True\n",
    "Author: Ethan Patel, Tanay Paranjpe, Neil Manjrekar\n",
    "---"
   ]
  },
  {
   "cell_type": "markdown",
   "id": "4f2bb0f9",
   "metadata": {},
   "source": [
    "## Javascript Variables HW"
   ]
  },
  {
   "cell_type": "code",
   "execution_count": null,
   "id": "a349231f",
   "metadata": {
    "vscode": {
     "languageId": "javascript"
    }
   },
   "outputs": [],
   "source": [
    "// Part 1\n",
    "// Personal info\n",
    "let myName = \"Kailyn\";       // Fill in your name\n",
    "let myAge = 16          // Fill in your age (number, no quotes)\n",
    "let myCity = \"San Diego\";       // Fill in the city where you live\n",
    "\n",
    "// Part 2\n",
    "// Preferences\n",
    "let favoriteColor = \"Yellow\";      // Your favorite color\n",
    "let favoriteFood = \"Pasta\";       // Your favorite food\n",
    "let favoriteMovie = \"A Silent Voice\";      // Your favorite movie\n",
    "let favoriteSong = \"Shuffle\";       // Your favorite song\n",
    "\n",
    "// Part 3\n",
    "// Reassign some variables (you can change their values later)\n",
    "favoriteFood = \"Pasta\";      // Change your favorite food\n",
    "myCity = \"San Diego\";            // Change your city\n",
    "let hasPet = True          // true or false (Boolean)\n",
    "\n",
    "// Part 4\n",
    "// Add some more details\n",
    "let isStudent = True       // true or false\n",
    "let isOnline = True        // true or false\n",
    "let likesMusic = True      // true or false\n",
    "\n",
    "// Part 5: Print Your Life Profile\n",
    "console.log(\"Name:\", myName);\n",
    "console.log(\"Age:\", myAge);\n",
    "console.log(\"City:\", myCity);\n",
    "console.log(\"Favorite color:\", favoriteColor);\n",
    "console.log(\"Favorite food:\", favoriteFood);\n",
    "console.log(\"Favorite movie:\", favoriteMovie);\n",
    "console.log(\"Favorite song:\", favoriteSong);\n",
    "console.log(\"Student?\", isStudent);\n",
    "console.log(\"Has pet?\", hasPet);\n",
    "console.log(\"Online?\", isOnline);\n",
    "console.log(\"Likes music?\", likesMusic);\n"
   ]
  }
 ],
 "metadata": {
  "language_info": {
   "name": "python"
  }
 },
 "nbformat": 4,
 "nbformat_minor": 5
}
