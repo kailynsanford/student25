{
 "cells": [
  {
   "cell_type": "raw",
   "id": "483fa491",
   "metadata": {},
   "source": [
    "---\n",
    "title: Summary of the First Few Weeks\n",
    "comments: true\n",
    "layout: post\n",
    "permalink: /firstblog\n",
    "description: first blog of the year yay\n",
    "author: Kailyn\n",
    "---"
   ]
  },
  {
   "cell_type": "markdown",
   "id": "b82fc2b9",
   "metadata": {},
   "source": [
    "# Setting Up Jupyter Notebooks and Building Projects\n",
    "\n",
    "This notebook documents the process I followed to set up my development environment, work with multiple repositories, configure Jupyter Notebooks, and experiment with collaborative workflows. It also highlights a completed project—a Tic Tac Toe game built with Python and DOM integration.\n"
   ]
  },
  {
   "cell_type": "markdown",
   "id": "57c40ede",
   "metadata": {},
   "source": [
    "## Step 1: Environment Setup\n",
    "\n",
    "I began with **Visual Studio Code** already installed, which provided a reliable editor.  \n",
    "To enable development with Jupyter and Python, I installed **Python 3** and verified the installation:\n",
    "\n",
    "- Installed Python 3 and added it to the system PATH.\n",
    "- Installed `pip` for package management.\n",
    "- Configured `virtualenv` to keep project dependencies isolated.\n",
    "\n",
    "Verifying the installation:\n"
   ]
  },
  {
   "cell_type": "code",
   "execution_count": null,
   "id": "9cdd5ac0",
   "metadata": {},
   "outputs": [],
   "source": [
    "# Verify Python version\n",
    "!python3 --version\n"
   ]
  },
  {
   "cell_type": "markdown",
   "id": "6dba69e4",
   "metadata": {},
   "source": [
    "## Step 2: Cloning Repositories\n",
    "\n",
    "Two repositories were necessary to start working:\n",
    "\n",
    "1. **Student repository** – Stores personal projects, notebooks, and assignments.  \n",
    "2. **Pages repository** – Used to get content to add to student repository.\n",
    "\n",
    "Cloning was done via Git, allowing seamless switching between repositories in VS Code.\n"
   ]
  },
  {
   "cell_type": "code",
   "execution_count": null,
   "id": "69fbd2ac",
   "metadata": {},
   "outputs": [],
   "source": []
  },
  {
   "cell_type": "markdown",
   "id": "9aa27328",
   "metadata": {},
   "source": [
    "## Step 3: Configuring Jupyter Notebooks\n",
    "\n",
    "Once Python was installed, I set up **Jupyter Notebooks** for interactive development.  \n",
    "Jupyter allows mixing executable code, markdown documentation, and visualizations in a single document.\n",
    "\n",
    "Installation and launch:\n"
   ]
  },
  {
   "cell_type": "code",
   "execution_count": null,
   "id": "56ecf0de",
   "metadata": {},
   "outputs": [],
   "source": [
    "# Install Jupyter Notebook\n",
    "pip install notebook\n",
    "\n",
    "# Start Jupyter Notebook\n",
    "jupyter notebook\n"
   ]
  },
  {
   "cell_type": "markdown",
   "id": "0dffe420",
   "metadata": {},
   "source": [
    "## Step 4: Creating a Group Repository\n",
    "\n",
    "After setting up personal repositories, I collaborated with a team to create a **group repository**.  \n",
    "This required:\n",
    "\n",
    "- Collaboration on splitting up work.\n",
    "- Collaboration on adding work to the group repo.\n",
    "\n",
    "This experience improved both version control skills and team workflow.\n"
   ]
  },
  {
   "cell_type": "markdown",
   "id": "8f22fe6d",
   "metadata": {},
   "source": [
    "## Step 5: Theme Switching with Make\n",
    "\n",
    "Our environment supports **theme switching** using `make` commands, enabling quick transitions between themes.  \n",
    "This feature streamlined testing and presentation, offering insight into theming systems.\n",
    "\n",
    "Example command:\n"
   ]
  },
  {
   "cell_type": "code",
   "execution_count": null,
   "id": "11dfc3df",
   "metadata": {},
   "outputs": [],
   "source": [
    "# Switch theme to cayman\n",
    "make use-cayman\n"
   ]
  },
  {
   "cell_type": "markdown",
   "id": "9d245183",
   "metadata": {},
   "source": [
    "## Step 6: Tic Tac Toe Game Project\n",
    "\n",
    "One highlight of this setup was alterting the **Tic Tac Toe game** hack that combines Python logic with **DOM manipulation**.\n",
    "\n",
    "Things I changed:\n",
    "\n",
    "- Added a moves tracker that tracks all moves made after every turn. \n",
    "- Added a way to make the game bigger, beyond the initial 3x3.\n",
    "\n",
    "This project demonstrated the versatility of Python and introduced concepts in dynamic, interactive applications.\n"
   ]
  },
  {
   "cell_type": "markdown",
   "id": "aa3d3261",
   "metadata": {},
   "source": [
    "## Summary\n",
    "\n",
    "This process involved:\n",
    "\n",
    "- Installing and configuring Python 3 and dependencies.\n",
    "- Cloning and managing multiple Git repositories.\n",
    "- Working extensively in Jupyter Notebooks.\n",
    "- Collaborating on a shared repository.\n",
    "- Experimenting with themes via `make` commands.\n",
    "- Completing a functional Tic Tac Toe game with Python and DOM integration.\n",
    "\n",
    "These steps formed a strong foundation for both solo and collaborative development, while also providing experience with toolchains, version control, and interactive programming.\n"
   ]
  }
 ],
 "metadata": {
  "language_info": {
   "name": "python"
  }
 },
 "nbformat": 4,
 "nbformat_minor": 5
}
