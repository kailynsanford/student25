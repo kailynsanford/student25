{
 "cells": [
  {
   "cell_type": "raw",
   "id": "6076ddd8",
   "metadata": {
    "vscode": {
     "languageId": "raw"
    }
   },
   "source": [
    "---\n",
    "title: Key Learning Experience\n",
    "comments: false\n",
    "layout: post\n",
    "permalink: /indireview\n",
    "author: Kailyn Sanford\n",
    "---"
   ]
  },
  {
   "cell_type": "markdown",
   "id": "eb5d465b",
   "metadata": {},
   "source": [
    "# 📓 Individual Experience"
   ]
  },
  {
   "cell_type": "markdown",
   "id": "2d31445b",
   "metadata": {},
   "source": [
    "### 1. Visual Studio Code (VS Code)\n",
    "\n",
    "- Installed VS Code as the main coding environment.  \n",
    "- Added extensions like Python, Markdown support, and GitLens.  \n",
    "- Connected VS Code with GitHub for repository access and syncing.  \n",
    "\n",
    "---\n",
    "\n",
    "### 2. Make\n",
    "\n",
    "- Installed `make` to automate tasks.  \n",
    "- Used it to streamline switching between configurations or themes.  \n",
    "- Helped reduce repetitive manual work.  \n",
    "\n",
    "---\n",
    "\n",
    "### 3. make-theme\n",
    "\n",
    "- Organized themes into a dedicated folder.  \n",
    "- Used `make` commands to quickly switch between themes.  \n",
    "- Simplified the process of experimenting with different designs.  \n",
    "\n",
    "---\n",
    "\n",
    "### 4. Personal Repository\n",
    "\n",
    "- Created a GitHub repository for version control.  \n",
    "- Cloned it locally to track progress and save work.  \n",
    "- Used commits and pushes to sync changes with GitHub.  \n",
    "\n",
    "---\n",
    "\n",
    "### 5. Jupyter Notebooks\n",
    "\n",
    "- Installed Jupyter to combine code, notes, and outputs.  \n",
    "- Used notebooks for documenting progress and experimenting interactively.  \n",
    "- Helped keep both explanations and results in one place.  "
   ]
  },
  {
   "cell_type": "markdown",
   "id": "8bdbe7b7",
   "metadata": {},
   "source": [
    "\n",
    "\n",
    "---\n",
    "\n",
    "## 🕹️ Work on the Quiz in the LxD Design Game (M&M Game)\n",
    "\n",
    "Over the past few weeks, I added quiz functionality into our LxD design game (the M&M game). The quiz was meant to pop up when interacting with a certain NPC. Here’s the main code I wrote and integrated:"
   ]
  },
  {
   "cell_type": "code",
   "execution_count": null,
   "id": "b5d6e80e",
   "metadata": {
    "vscode": {
     "languageId": "javascript"
    }
   },
   "outputs": [],
   "source": [
    "interact: () => { // added to the functions of the npc wanted to trigger the quiz.\n",
    "    this.triggerQuiz();\n",
    "  }\n",
    "};\n",
    "\n",
    "// ===== QUIZ SETUP (inline, no extra file) =====\n",
    "this.quizQuestions = [\n",
    "  {\n",
    "    question: \"What command opens VSCode from terminal?\",\n",
    "    options: [\"open .\", \"code .\", \"vscode start\"],\n",
    "    answer: 1\n",
    "  },\n",
    "  {\n",
    "    question: \"How do you activate a virtual environment?\",\n",
    "    options: [\n",
    "      \"python -m venv activate\",\n",
    "      \"source venv/bin/activate\",\n",
    "      \"pip install activate\"\n",
    "    ],\n",
    "    answer: 1\n",
    "  }\n",
    "];\n",
    "\n",
    "this.quizContainer = document.createElement(\"div\");\n",
    "this.quizContainer.style.position = \"absolute\";\n",
    "this.quizContainer.style.top = \"50%\";\n",
    "this.quizContainer.style.left = \"50%\";\n",
    "this.quizContainer.style.transform = \"translate(-50%, -50%)\";\n",
    "this.quizContainer.style.background = \"white\";\n",
    "this.quizContainer.style.padding = \"20px\";\n",
    "this.quizContainer.style.border = \"3px solid black\";\n",
    "this.quizContainer.style.zIndex = \"9999\";\n",
    "this.quizContainer.style.display = \"none\"; // hidden initially\n",
    "document.body.appendChild(this.quizContainer);\n",
    "\n",
    "// Classes used in the game\n",
    "this.classes = [\n",
    "  { class: GameEnvBackground, data: image_data_summer },\n",
    "  { class: Player, data: sprite_data_blank },\n",
    "  { class: Npc, data: sprite_data_red },\n",
    "  { class: Npc, data: sprite_data_orange },\n",
    "  { class: Npc, data: sprite_data_pink, onInteract: () => this.triggerQuiz() }\n",
    "];"
   ]
  },
  {
   "cell_type": "markdown",
   "id": "f8de618d",
   "metadata": {},
   "source": [
    "The logic for triggering questions one by one:"
   ]
  },
  {
   "cell_type": "code",
   "execution_count": null,
   "id": "7f6c7af0",
   "metadata": {
    "vscode": {
     "languageId": "javascript"
    }
   },
   "outputs": [],
   "source": [
    "triggerQuiz() {\n",
    "  let currentIndex = 0;\n",
    "\n",
    "  const nextQuestion = () => {\n",
    "    if (currentIndex < this.quizQuestions.length) {\n",
    "      this.showQuestion(currentIndex, (correct) => {\n",
    "        if (correct) {\n",
    "          alert(\"Correct! 🎉\");\n",
    "          currentIndex++;\n",
    "          nextQuestion(); // next\n",
    "        } else {\n",
    "          alert(\"Oops, try again!\");\n",
    "          nextQuestion(); // retry same\n",
    "        }\n",
    "      });\n",
    "    } else {\n",
    "      alert(\"🎉 Quiz complete!\");\n",
    "      this.quizContainer.style.display = \"none\"; // hide when done\n",
    "    }\n",
    "  };\n",
    "\n",
    "  nextQuestion(); // start\n",
    "}"
   ]
  },
  {
   "cell_type": "markdown",
   "id": "d0dd5a41",
   "metadata": {},
   "source": [
    "### ⚠️ Error and Fix\n",
    "\n",
    "At first, I ran into a bug where the quiz wouldn’t move to the next question after answering. The issue was that I wasn’t incrementing currentIndex at the right time, so it kept retrying the same question instead of moving on.\n",
    "\n",
    "**Fix:**\n",
    "I fixed it by making sure currentIndex++ only ran when the answer was correct. That way, the code advanced to the next question properly, and wrong answers simply retried the same question."
   ]
  },
  {
   "cell_type": "markdown",
   "id": "983a9930",
   "metadata": {},
   "source": [
    "## 📘 New Lesson: Learning About Lists\n",
    "\n",
    "I also started researching and learning about **lists** in programming, for our first lesson on 1.10.\n",
    "\n",
    "### Overview of Lists\n",
    "- **Definition**: A list is an ordered collection of elements.  \n",
    "- **Order**: Each element has a position, starting at index `0`.  \n",
    "- **Mutability**: Lists can be changed after creation — items can be added, removed, or modified.  \n",
    "- **Flexibility**: Lists can contain different types of data (numbers, words, or even other lists).  \n",
    "- **Iteration**: You can go through each item in a list one by one.  \n",
    "- **Common Uses**:  \n",
    "  - Storing related data together (like a shopping list or group of scores).  \n",
    "  - Organizing items that may need to be changed over time.  \n",
    "  - Keeping track of sequences, steps, or collections in a program.  \n",
    "\n",
    "Lists are one of the most commonly used data structures because they’re simple, versatile, and powerful.  \n"
   ]
  },
  {
   "cell_type": "markdown",
   "id": "1942a93d",
   "metadata": {},
   "source": [
    "## Overall Goals  \n",
    "Students will build a foundation in computational thinking by:  \n",
    "- Learning how to use **lists** to organize and manage data.  \n",
    "- Practicing how to **call procedures** (functions) to perform tasks efficiently.  \n",
    "- Developing their own **procedures** to structure programs and manage complexity.  \n",
    "\n",
    "The progression moves from handling data → using abstraction → creating abstraction.\n",
    "- put this information into lessons on blogs.\n",
    "- brainstorm hacks to be able to teach these effectively."
   ]
  },
  {
   "cell_type": "markdown",
   "id": "1f62e5fc",
   "metadata": {},
   "source": [
    "## 📊 Personal Analytics\n",
    "\n",
    "This section is for tracking personal progress, like commits and issues.\n",
    "\n",
    "Commits made: 5\n",
    "\n",
    "Issues created/resolved: 4\n",
    "\n",
    "Reflections:\n",
    "\n",
    "What went well this sprint?\n",
    "- I think I did a good amount of work and really helped contribute something to my team.\n",
    "\n",
    "What could be improved for next sprint?\n",
    "- I would like to accomplish a little bit more and take on more tasks. "
   ]
  }
 ],
 "metadata": {
  "language_info": {
   "name": "python"
  }
 },
 "nbformat": 4,
 "nbformat_minor": 5
}
