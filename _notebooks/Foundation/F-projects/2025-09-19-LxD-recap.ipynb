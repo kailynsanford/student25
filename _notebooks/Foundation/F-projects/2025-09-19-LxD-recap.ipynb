{
 "cells": [
  {
   "cell_type": "raw",
   "id": "6076ddd8",
   "metadata": {
    "vscode": {
     "languageId": "raw"
    }
   },
   "source": [
    "---\n",
    "title: LxD Recap\n",
    "comments: false\n",
    "layout: post \n",
    "permalink: /lxdteam\n",
    "author: Kailyn Sanford\n",
    "---"
   ]
  },
  {
   "cell_type": "markdown",
   "id": "f379aa54",
   "metadata": {},
   "source": [
    "# Learning Experience Design (LxD) Recap\n",
    "\n",
    "This notebook recaps the processes of learning through **LxD** while exploring different technical skills:  \n",
    "- Using `make-theme`  \n",
    "- Learning Python DOM manipulation  \n",
    "- Altering and extending classic games (Pong and Tic Tac Toe)  \n",
    "\n",
    "---\n",
    "\n",
    "## 1. Using `make-theme`\n",
    "\n",
    "### Key Learning Experience\n",
    "- **Challenge**: Understanding how Makefiles automate theme configuration.  \n",
    "- **Action**: Experimented with targets like `make use-minima`, `make use-text`, etc.  \n",
    "- **Outcome**: Learned how automation can save time and reduce repetitive work.  \n",
    "\n",
    "### Reflection\n",
    "- LxD emphasizes *hands-on experimentation*. By directly running make commands, I discovered how different themes applied instantly, which reinforced the learning.  \n",
    "\n"
   ]
  },
  {
   "cell_type": "code",
   "execution_count": null,
   "id": "857f74bc",
   "metadata": {},
   "outputs": [],
   "source": [
    "# Example: Switching themes\n",
    "make use-minima\n",
    "make use-cayman"
   ]
  },
  {
   "cell_type": "markdown",
   "id": "0dfc02b5",
   "metadata": {},
   "source": [
    "### LxD Make Theme Game\n",
    "\n",
    "In order to make the make use-theme experience easier, we made a game to demonstrate it.\n",
    "\n",
    "The game included:\n",
    "- NPCs that explained the main concepts of make and make use-theme\n",
    "- A quiz to test the knowledge that the NPCs gave. \n",
    "\n",
    "This took what we struggled learning and turned it into a game experience with easier to digest bits of information. "
   ]
  },
  {
   "cell_type": "markdown",
   "id": "7d6ed1b3",
   "metadata": {},
   "source": [
    "## 2. Learning Python DOM\n",
    "### Key Learning Experience\n",
    "\n",
    "Challenge: Python does not directly control browsers like JavaScript.\n",
    "\n",
    "Action: Learned how to use libraries such as BeautifulSoup for parsing and selenium for automation.\n",
    "\n",
    "Outcome: Understood DOM tree structure and how to traverse/edit it with Python.\n",
    "\n",
    "### Reflection\n",
    "\n",
    "LxD approach helped me by breaking down complex problems into teachable examples. Instead of just reading theory, I practiced extracting elements step by step."
   ]
  },
  {
   "cell_type": "markdown",
   "id": "2b022b19",
   "metadata": {},
   "source": [
    "## 3. Altering Games: Pong and Tic Tac Toe\n",
    "### Key Learning Experience\n",
    "\n",
    "Challenge: Going beyond just playing — figuring out how to modify and extend the rules or mechanics of simple games.\n",
    "\n",
    "Action:\n",
    "\n",
    "- Edited the Pong game to adjust difficulty levels.\n",
    "\n",
    "- Transformed Tic Tac Toe from a fixed 3×3 board into a version where the board size could change dynamically (e.g., 4×4, 5×5), and added a move tracker.\n",
    "\n",
    "Outcome: Learned how small code changes could completely shift game dynamics, deepening understanding of loops, conditions, and modularity.\n",
    "\n",
    "### Reflection\n",
    "\n",
    "The LxD principle here was learning through tinkering. By experimenting with small changes, I gained confidence in reading existing code, spotting where logic lived, and adjusting it to create something new."
   ]
  },
  {
   "cell_type": "markdown",
   "id": "3351b73a",
   "metadata": {},
   "source": [
    "## Final Reflection\n",
    "\n",
    "- Using make-theme taught automation.\n",
    "\n",
    "- Python DOM taught data structure thinking.\n",
    "\n",
    "- Altering Pong and Tic Tac Toe taught game logic, modular design, and creative tinkering.\n",
    "\n",
    "Overall, the LxD cycle (challenge → action → reflection) made each step not just a technical exercise but a teachable, memorable experience."
   ]
  }
 ],
 "metadata": {
  "language_info": {
   "name": "python"
  }
 },
 "nbformat": 4,
 "nbformat_minor": 5
}
