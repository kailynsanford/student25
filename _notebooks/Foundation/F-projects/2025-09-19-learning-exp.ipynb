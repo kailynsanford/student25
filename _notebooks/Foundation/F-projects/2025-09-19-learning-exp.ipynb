{
 "cells": [
  {
   "cell_type": "raw",
   "id": "6076ddd8",
   "metadata": {
    "vscode": {
     "languageId": "raw"
    }
   },
   "source": [
    "---\n",
    "title: Key Learning Experience\n",
    "comments: false\n",
    "layout: ccc \n",
    "permalink: /learningexp\n",
    "author: Kailyn Sanford\n",
    "---"
   ]
  },
  {
   "cell_type": "markdown",
   "id": "f33bc59d",
   "metadata": {},
   "source": [
    "# 📘 LxD Key Learning Experience: Teaching Through Game Design\n",
    "\n",
    "## Reflection\n",
    "One of the most valuable lessons from Learning Experience Design (LxD) was realizing \n",
    "that **understanding something deeply is not enough**—you need to be able to \n",
    "**explain and teach it clearly** to others.  \n",
    "\n",
    "A key learning experience was **taking what I knew** and **formulating it into \n",
    "a teachable format**. In this case, that involved **making a game** where the \n",
    "points I needed to know were emphasized through interactive play.\n",
    "\n",
    "By turning content into a game:\n",
    "- I had to **identify the most important concepts**.\n",
    "- I had to **simplify and structure knowledge** so it was teachable.\n",
    "- I created a learning tool that was both **engaging** and **reinforced retention**.\n"
   ]
  },
  {
   "cell_type": "markdown",
   "id": "8e583248",
   "metadata": {},
   "source": [
    "## Why a Game?\n",
    "Games provide:\n",
    "- **Immediate feedback** (right or wrong answers).\n",
    "- **Engagement** (learning feels less like memorization).\n",
    "- **Repetition** (important ideas come up multiple times).\n",
    "- **Motivation** (students want to “win” while they learn).\n",
    "\n",
    "This approach is a practical application of **learning by teaching**, \n",
    "which strengthens both comprehension and memory.\n"
   ]
  },
  {
   "cell_type": "markdown",
   "id": "ae1efac5",
   "metadata": {},
   "source": [
    "# ✅ Conclusion\n",
    "\n",
    "This activity taught me that **designing to teach others forces you \n",
    "to clarify and prioritize knowledge**.  \n",
    "By making a game that emphasizes key points, I was able to:\n",
    "- Strengthen my own understanding,\n",
    "- Provide a tool for others to learn, and\n",
    "- See firsthand how **LxD connects knowledge, engagement, and teaching**.\n"
   ]
  }
 ],
 "metadata": {
  "language_info": {
   "name": "python"
  }
 },
 "nbformat": 4,
 "nbformat_minor": 5
}
